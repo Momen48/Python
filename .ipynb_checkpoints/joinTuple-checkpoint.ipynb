{
 "cells": [
  {
   "cell_type": "code",
   "execution_count": 3,
   "id": "8c791500-4b50-43a9-b101-a9a7739caa0c",
   "metadata": {},
   "outputs": [
    {
     "name": "stdout",
     "output_type": "stream",
     "text": [
      "('apple', 'orange', 'coconut', 11, 12, 13)\n"
     ]
    }
   ],
   "source": [
    "tuple1 = ('apple','orange','coconut')\n",
    "tuple2 = (11,12,13)\n",
    "tuple3 = tuple1 + tuple2\n",
    "\n",
    "print(tuple3)"
   ]
  },
  {
   "cell_type": "code",
   "execution_count": null,
   "id": "7c4c7efd-9304-4ad4-94ff-bbbff53afce2",
   "metadata": {},
   "outputs": [],
   "source": []
  }
 ],
 "metadata": {
  "kernelspec": {
   "display_name": "Python 3 (ipykernel)",
   "language": "python",
   "name": "python3"
  },
  "language_info": {
   "codemirror_mode": {
    "name": "ipython",
    "version": 3
   },
   "file_extension": ".py",
   "mimetype": "text/x-python",
   "name": "python",
   "nbconvert_exporter": "python",
   "pygments_lexer": "ipython3",
   "version": "3.12.7"
  }
 },
 "nbformat": 4,
 "nbformat_minor": 5
}
