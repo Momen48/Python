{
 "cells": [
  {
   "cell_type": "code",
   "execution_count": 1,
   "id": "c2f13e6a-cc7b-43e9-b4d1-4d9b1f6336a8",
   "metadata": {},
   "outputs": [
    {
     "name": "stdout",
     "output_type": "stream",
     "text": [
      "15\n"
     ]
    }
   ],
   "source": [
    "x = lambda a: a+5\n",
    "print(x(10))"
   ]
  },
  {
   "cell_type": "code",
   "execution_count": 5,
   "id": "c7de449a-bb04-4972-8178-7841ed9d7915",
   "metadata": {},
   "outputs": [
    {
     "name": "stdout",
     "output_type": "stream",
     "text": [
      "25\n"
     ]
    }
   ],
   "source": [
    "x= lambda a,b: a*b\n",
    "print (x(5,5))"
   ]
  },
  {
   "cell_type": "code",
   "execution_count": null,
   "id": "9f010ac8-511a-41f9-aed5-6739c0219dc4",
   "metadata": {},
   "outputs": [],
   "source": []
  }
 ],
 "metadata": {
  "kernelspec": {
   "display_name": "Python 3 (ipykernel)",
   "language": "python",
   "name": "python3"
  },
  "language_info": {
   "codemirror_mode": {
    "name": "ipython",
    "version": 3
   },
   "file_extension": ".py",
   "mimetype": "text/x-python",
   "name": "python",
   "nbconvert_exporter": "python",
   "pygments_lexer": "ipython3",
   "version": "3.12.7"
  }
 },
 "nbformat": 4,
 "nbformat_minor": 5
}
