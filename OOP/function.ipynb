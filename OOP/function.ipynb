{
 "cells": [
  {
   "cell_type": "code",
   "execution_count": 3,
   "id": "cc63cf34-02a4-4303-aefc-8b7da69ab80e",
   "metadata": {},
   "outputs": [
    {
     "name": "stdout",
     "output_type": "stream",
     "text": [
      "I may b bad but i am perfectly good at it\n"
     ]
    }
   ],
   "source": [
    "def my_function():\n",
    "    print (\"I may b bad but i am perfectly good at it\")\n",
    "my_function()"
   ]
  },
  {
   "cell_type": "code",
   "execution_count": 5,
   "id": "c7f2bccf-c699-4edd-b7e5-dd9d479c1aaa",
   "metadata": {},
   "outputs": [
    {
     "name": "stdout",
     "output_type": "stream",
     "text": [
      "Nurul Momen\n"
     ]
    }
   ],
   "source": [
    "def my_name(fname, lname):\n",
    "    print(fname+ \" \" + lname)\n",
    "\n",
    "my_name(\"Nurul\",\"Momen\")"
   ]
  },
  {
   "cell_type": "code",
   "execution_count": 11,
   "id": "615e40f5-9b89-4653-86ae-762e9163b405",
   "metadata": {},
   "outputs": [
    {
     "name": "stdout",
     "output_type": "stream",
     "text": [
      "the name Camilla\n"
     ]
    }
   ],
   "source": [
    "# arbitrary Arguments \n",
    "def one_fun(*kids): \n",
    "    print (\"the name \" + kids[2])\n",
    "\n",
    "one_fun(\"One \",\"Two\", \"Camilla\")\n"
   ]
  },
  {
   "cell_type": "code",
   "execution_count": 13,
   "id": "84a7b3b4-a69c-442b-b419-7a047ebd5c29",
   "metadata": {},
   "outputs": [
    {
     "name": "stdout",
     "output_type": "stream",
     "text": [
      "the house name: Babar\n"
     ]
    }
   ],
   "source": [
    "# Keyword Arguments\n",
    "def key_fun(one, two , three) : \n",
    "    print (\"the house name: \" + two)\n",
    "key_fun(one=\"tarek\", two=\"Babar\", three=\"Nazrul\")    "
   ]
  },
  {
   "cell_type": "code",
   "execution_count": 19,
   "id": "3ea3969c-fb4b-4891-9e6d-fc3543d3fb80",
   "metadata": {},
   "outputs": [
    {
     "name": "stdout",
     "output_type": "stream",
     "text": [
      "my country is:Norway\n",
      "my country is:India\n",
      "my country is:Bangladesh\n"
     ]
    }
   ],
   "source": [
    "# default argumet \n",
    "\n",
    "def my_coun(country = \"Norway\"): \n",
    "    print (\"my country is:\" + country)\n",
    "\n",
    "my_coun()\n",
    "my_coun(\"India\")\n",
    "my_coun(\"Bangladesh\")\n",
    "\n"
   ]
  },
  {
   "cell_type": "code",
   "execution_count": 29,
   "id": "046ef722-58b6-4f47-adb1-ae5cb2d6c82f",
   "metadata": {},
   "outputs": [
    {
     "name": "stdout",
     "output_type": "stream",
     "text": [
      "Toamato\n",
      "Guava\n",
      "apple\n"
     ]
    }
   ],
   "source": [
    "# Passing a List as an Argument\n",
    "def fun_fruit(food):\n",
    "    for x in food:\n",
    "        print(x)\n",
    "fruits = [\"Toamato\",\"Guava\",\"apple\"]\n",
    "\n",
    "fun_fruit(fruits)\n"
   ]
  },
  {
   "cell_type": "code",
   "execution_count": null,
   "id": "eb535f9b-1541-42fb-b784-88cf0affcbb8",
   "metadata": {},
   "outputs": [],
   "source": []
  }
 ],
 "metadata": {
  "kernelspec": {
   "display_name": "Python 3 (ipykernel)",
   "language": "python",
   "name": "python3"
  },
  "language_info": {
   "codemirror_mode": {
    "name": "ipython",
    "version": 3
   },
   "file_extension": ".py",
   "mimetype": "text/x-python",
   "name": "python",
   "nbconvert_exporter": "python",
   "pygments_lexer": "ipython3",
   "version": "3.12.7"
  }
 },
 "nbformat": 4,
 "nbformat_minor": 5
}
