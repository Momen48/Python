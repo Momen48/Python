{
 "cells": [
  {
   "cell_type": "code",
   "execution_count": null,
   "id": "14d8dbfa-bf3c-4de4-8c1a-43775df2dff0",
   "metadata": {},
   "outputs": [],
   "source": []
  }
 ],
 "metadata": {
  "kernelspec": {
   "display_name": "",
   "name": ""
  },
  "language_info": {
   "name": ""
  }
 },
 "nbformat": 4,
 "nbformat_minor": 5
}
