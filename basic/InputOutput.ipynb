{
 "cells": [
  {
   "cell_type": "code",
   "execution_count": 1,
   "id": "a6fee799-8ad9-44d1-afd7-f439665e3913",
   "metadata": {},
   "outputs": [
    {
     "data": {
      "text/plain": [
       "'G:\\\\Python\\\\Python\\\\basic'"
      ]
     },
     "execution_count": 1,
     "metadata": {},
     "output_type": "execute_result"
    }
   ],
   "source": [
    "pwd"
   ]
  },
  {
   "cell_type": "code",
   "execution_count": 3,
   "id": "f8341223-8a58-4ef3-b172-0d8add4a9d43",
   "metadata": {},
   "outputs": [
    {
     "name": "stdout",
     "output_type": "stream",
     "text": [
      "Writing mytext.txt\n"
     ]
    }
   ],
   "source": [
    "%%writefile mytext.txt\n",
    "Hello this is the first line.\n",
    "This is the second line. \n",
    "this is third line. "
   ]
  },
  {
   "cell_type": "code",
   "execution_count": 5,
   "id": "db285a92-0c1e-42f8-b3d1-057155397c51",
   "metadata": {},
   "outputs": [],
   "source": [
    "myfile= open('mytext.txt')"
   ]
  },
  {
   "cell_type": "code",
   "execution_count": 7,
   "id": "94f861f5-f0b9-4117-9491-6426809abb92",
   "metadata": {},
   "outputs": [
    {
     "data": {
      "text/plain": [
       "'Hello this is the first line.\\nThis is the second line. \\nthis is third line. \\n'"
      ]
     },
     "execution_count": 7,
     "metadata": {},
     "output_type": "execute_result"
    }
   ],
   "source": [
    "myfile.read()"
   ]
  },
  {
   "cell_type": "code",
   "execution_count": 9,
   "id": "afe2dfe4-4a3c-401a-9612-977daa0be5fa",
   "metadata": {},
   "outputs": [
    {
     "data": {
      "text/plain": [
       "''"
      ]
     },
     "execution_count": 9,
     "metadata": {},
     "output_type": "execute_result"
    }
   ],
   "source": [
    "myfile.read()"
   ]
  },
  {
   "cell_type": "code",
   "execution_count": 13,
   "id": "9528c65e-24c7-4239-9193-c03ae1b1468f",
   "metadata": {},
   "outputs": [
    {
     "data": {
      "text/plain": [
       "0"
      ]
     },
     "execution_count": 13,
     "metadata": {},
     "output_type": "execute_result"
    }
   ],
   "source": [
    "myfile.seek(0)"
   ]
  },
  {
   "cell_type": "code",
   "execution_count": 15,
   "id": "886e232b-b15b-4e5e-b07e-ba0291e54ec2",
   "metadata": {},
   "outputs": [
    {
     "data": {
      "text/plain": [
       "'Hello this is the first line.\\nThis is the second line. \\nthis is third line. \\n'"
      ]
     },
     "execution_count": 15,
     "metadata": {},
     "output_type": "execute_result"
    }
   ],
   "source": [
    "content = myfile.read()\n",
    "content"
   ]
  },
  {
   "cell_type": "code",
   "execution_count": 25,
   "id": "ff99c9dd-08d9-477d-9362-b961a3d56449",
   "metadata": {},
   "outputs": [
    {
     "data": {
      "text/plain": [
       "0"
      ]
     },
     "execution_count": 25,
     "metadata": {},
     "output_type": "execute_result"
    }
   ],
   "source": [
    "myfile.seek(0)"
   ]
  },
  {
   "cell_type": "code",
   "execution_count": 27,
   "id": "9f9e732d-fa53-4b31-8e67-e67cdb66dfa3",
   "metadata": {},
   "outputs": [
    {
     "data": {
      "text/plain": [
       "['Hello this is the first line.\\n',\n",
       " 'This is the second line. \\n',\n",
       " 'this is third line. \\n']"
      ]
     },
     "execution_count": 27,
     "metadata": {},
     "output_type": "execute_result"
    }
   ],
   "source": [
    "myfile.readlines()"
   ]
  },
  {
   "cell_type": "code",
   "execution_count": 33,
   "id": "da3178af-1cd3-423c-8faa-24a140ecdea4",
   "metadata": {},
   "outputs": [],
   "source": [
    "# cooment : always close myfile because if it is open anywhere, python will show error. \n"
   ]
  },
  {
   "cell_type": "code",
   "execution_count": 41,
   "id": "4bd9f7db-6aac-4e6b-9643-4552c16f15ca",
   "metadata": {},
   "outputs": [],
   "source": [
    "myfile.close()"
   ]
  },
  {
   "cell_type": "code",
   "execution_count": 45,
   "id": "98286c73-e065-4add-97cb-5e0b4974c5a9",
   "metadata": {},
   "outputs": [
    {
     "ename": "AttributeError",
     "evalue": "'_io.TextIOWrapper' object has no attribute 'txt'",
     "output_type": "error",
     "traceback": [
      "\u001b[1;31m---------------------------------------------------------------------------\u001b[0m",
      "\u001b[1;31mAttributeError\u001b[0m                            Traceback (most recent call last)",
      "Cell \u001b[1;32mIn[45], line 1\u001b[0m\n\u001b[1;32m----> 1\u001b[0m \u001b[38;5;28;01mwith\u001b[39;00m \u001b[38;5;28mopen\u001b[39m(myfile\u001b[38;5;241m.\u001b[39mtxt) \u001b[38;5;28;01mas\u001b[39;00m my_new_file: \n\u001b[0;32m      2\u001b[0m     contents \u001b[38;5;241m=\u001b[39m my_new_file\u001b[38;5;241m.\u001b[39mread()\n\u001b[0;32m      3\u001b[0m     contents\n",
      "\u001b[1;31mAttributeError\u001b[0m: '_io.TextIOWrapper' object has no attribute 'txt'"
     ]
    }
   ],
   "source": [
    "with open(myfile.txt) as my_new_file: \n",
    "    contents = my_new_file.read()\n",
    "    contents"
   ]
  },
  {
   "cell_type": "code",
   "execution_count": null,
   "id": "8ca287c5-c634-41f5-9527-55e22952a634",
   "metadata": {},
   "outputs": [],
   "source": []
  }
 ],
 "metadata": {
  "kernelspec": {
   "display_name": "Python 3 (ipykernel)",
   "language": "python",
   "name": "python3"
  },
  "language_info": {
   "codemirror_mode": {
    "name": "ipython",
    "version": 3
   },
   "file_extension": ".py",
   "mimetype": "text/x-python",
   "name": "python",
   "nbconvert_exporter": "python",
   "pygments_lexer": "ipython3",
   "version": "3.12.7"
  }
 },
 "nbformat": 4,
 "nbformat_minor": 5
}
