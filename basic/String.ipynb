{
 "cells": [
  {
   "cell_type": "code",
   "execution_count": 3,
   "id": "c3fb9677-37db-4ab4-a1fb-67b990f2cace",
   "metadata": {},
   "outputs": [
    {
     "name": "stdout",
     "output_type": "stream",
     "text": [
      "ck u\n"
     ]
    }
   ],
   "source": [
    "newString = \"fuck u and your mom\"\n",
    "print(newString[2:6])"
   ]
  },
  {
   "cell_type": "code",
   "execution_count": 7,
   "id": "dbfeb0c6-557b-44b4-b57f-b44988d698f6",
   "metadata": {},
   "outputs": [
    {
     "name": "stdout",
     "output_type": "stream",
     "text": [
      "hgfedcba\n"
     ]
    }
   ],
   "source": [
    "\n",
    "stringRev = \"abcdefgh\"\n",
    "stringRev.\n",
    "print(stringRev[::-1])"
   ]
  },
  {
   "cell_type": "code",
   "execution_count": 13,
   "id": "3d923509-b345-4fe8-ad5c-8e3e3d49ea65",
   "metadata": {},
   "outputs": [
    {
     "name": "stdout",
     "output_type": "stream",
     "text": [
      "My name is Nurul MOMEN\n"
     ]
    }
   ],
   "source": [
    "name = \"My name is {f} {l}\"\n",
    "print (name.format(f=\"Nurul\", l=\"MOMEN\"))"
   ]
  },
  {
   "cell_type": "code",
   "execution_count": null,
   "id": "5ed93a4b-5abe-4207-8bc9-fb4fcf694fc2",
   "metadata": {},
   "outputs": [],
   "source": []
  }
 ],
 "metadata": {
  "kernelspec": {
   "display_name": "Python 3 (ipykernel)",
   "language": "python",
   "name": "python3"
  },
  "language_info": {
   "codemirror_mode": {
    "name": "ipython",
    "version": 3
   },
   "file_extension": ".py",
   "mimetype": "text/x-python",
   "name": "python",
   "nbconvert_exporter": "python",
   "pygments_lexer": "ipython3",
   "version": "3.12.7"
  }
 },
 "nbformat": 4,
 "nbformat_minor": 5
}
