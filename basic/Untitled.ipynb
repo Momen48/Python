{
 "cells": [
  {
   "cell_type": "code",
   "execution_count": null,
   "id": "bc9d0852-82cd-4f95-b2f7-257bc44d016e",
   "metadata": {},
   "outputs": [],
   "source": []
  }
 ],
 "metadata": {
  "kernelspec": {
   "display_name": "",
   "name": ""
  },
  "language_info": {
   "name": ""
  }
 },
 "nbformat": 4,
 "nbformat_minor": 5
}
