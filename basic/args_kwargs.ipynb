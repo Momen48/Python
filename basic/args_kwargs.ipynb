{
 "cells": [
  {
   "cell_type": "code",
   "execution_count": 3,
   "id": "62b3b7c5-0e99-4eb6-9504-811039ff25a5",
   "metadata": {},
   "outputs": [
    {
     "data": {
      "text/plain": [
       "5.0"
      ]
     },
     "execution_count": 3,
     "metadata": {},
     "output_type": "execute_result"
    }
   ],
   "source": [
    "def my_fun(a,b): \n",
    "    return sum((a,b)) * 0.05\n",
    "\n",
    "my_fun(40,60)"
   ]
  },
  {
   "cell_type": "code",
   "execution_count": 7,
   "id": "b687a6a4-8788-4e90-ba7a-3b81258399da",
   "metadata": {},
   "outputs": [],
   "source": [
    "def fun_new(*args):\n",
    "    print(args)"
   ]
  },
  {
   "cell_type": "code",
   "execution_count": 9,
   "id": "cd18a68e-f255-44aa-a693-fb36f86c045d",
   "metadata": {},
   "outputs": [
    {
     "name": "stdout",
     "output_type": "stream",
     "text": [
      "(40, 50, 60, 10)\n"
     ]
    }
   ],
   "source": [
    "fun_new(40,50,60,10)"
   ]
  },
  {
   "cell_type": "code",
   "execution_count": 30,
   "id": "b45a6011-cf09-4d69-888e-a31ef28e8b9e",
   "metadata": {},
   "outputs": [
    {
     "name": "stdout",
     "output_type": "stream",
     "text": [
      "{'fruits': 'Mango', 'veg': 'tomato'}\n",
      "My fav fruit is Mango\n"
     ]
    }
   ],
   "source": [
    "def kw_fun(**kwargs):\n",
    "    print (kwargs)\n",
    "    if 'fruits' in kwargs: \n",
    "        print('My fav fruit is {}'.format(kwargs['fruits']))\n",
    "    else:\n",
    "        print('there is no fav fruit')\n",
    "\n",
    "kw_fun(fruits = 'Mango', veg=\"tomato\")"
   ]
  },
  {
   "cell_type": "code",
   "execution_count": null,
   "id": "2b4f77a8-5c9e-4a17-81c6-d38a05b221c7",
   "metadata": {},
   "outputs": [],
   "source": []
  }
 ],
 "metadata": {
  "kernelspec": {
   "display_name": "Python 3 (ipykernel)",
   "language": "python",
   "name": "python3"
  },
  "language_info": {
   "codemirror_mode": {
    "name": "ipython",
    "version": 3
   },
   "file_extension": ".py",
   "mimetype": "text/x-python",
   "name": "python",
   "nbconvert_exporter": "python",
   "pygments_lexer": "ipython3",
   "version": "3.12.7"
  }
 },
 "nbformat": 4,
 "nbformat_minor": 5
}
