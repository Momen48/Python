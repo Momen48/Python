{
 "cells": [
  {
   "cell_type": "code",
   "execution_count": 15,
   "id": "918d5a73-437e-4522-b5fb-af5ca749bdf9",
   "metadata": {},
   "outputs": [
    {
     "name": "stdout",
     "output_type": "stream",
     "text": [
      "hello\n"
     ]
    }
   ],
   "source": [
    "x='hello' \n",
    "\n",
    "assert x != 'Welcome', \"Print hello\"\n",
    "print(x)"
   ]
  },
  {
   "cell_type": "code",
   "execution_count": 19,
   "id": "14b08fbd-fb70-45c8-9ca2-50c16fbc710d",
   "metadata": {},
   "outputs": [
    {
     "data": {
      "text/plain": [
       "11.0"
      ]
     },
     "execution_count": 19,
     "metadata": {},
     "output_type": "execute_result"
    }
   ],
   "source": [
    "def divided(a,b):\n",
    "    assert b!=0, \"Division by Zero\"\n",
    "    return a/b\n",
    "\n",
    "divided(55,5)\n",
    "# divided(10,0)"
   ]
  },
  {
   "cell_type": "code",
   "execution_count": null,
   "id": "8141af8b-a4b9-4788-a58b-df3198d52af9",
   "metadata": {},
   "outputs": [],
   "source": []
  }
 ],
 "metadata": {
  "kernelspec": {
   "display_name": "Python 3 (ipykernel)",
   "language": "python",
   "name": "python3"
  },
  "language_info": {
   "codemirror_mode": {
    "name": "ipython",
    "version": 3
   },
   "file_extension": ".py",
   "mimetype": "text/x-python",
   "name": "python",
   "nbconvert_exporter": "python",
   "pygments_lexer": "ipython3",
   "version": "3.12.7"
  }
 },
 "nbformat": 4,
 "nbformat_minor": 5
}
