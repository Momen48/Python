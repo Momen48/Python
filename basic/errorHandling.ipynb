{
 "cells": [
  {
   "cell_type": "code",
   "execution_count": 11,
   "id": "de381187-35a3-406e-a6fe-112e64fb2b83",
   "metadata": {},
   "outputs": [
    {
     "name": "stdout",
     "output_type": "stream",
     "text": [
      "Zero division error\n"
     ]
    }
   ],
   "source": [
    "def fun(a):\n",
    "    if a<4: \n",
    "        b = a/(a-3)\n",
    "    print(\"value of b = \" + b)\n",
    "\n",
    "try:\n",
    " fun(3)\n",
    "  \n",
    "\n",
    "except ZeroDivisionError: \n",
    "    print(\"Zero division error\")\n",
    "except NameError: \n",
    "    print(\"Name error handled\")\n"
   ]
  },
  {
   "cell_type": "code",
   "execution_count": null,
   "id": "d63dfb07-38ac-4533-b21e-0f64fe6ec358",
   "metadata": {},
   "outputs": [],
   "source": []
  }
 ],
 "metadata": {
  "kernelspec": {
   "display_name": "Python 3 (ipykernel)",
   "language": "python",
   "name": "python3"
  },
  "language_info": {
   "codemirror_mode": {
    "name": "ipython",
    "version": 3
   },
   "file_extension": ".py",
   "mimetype": "text/x-python",
   "name": "python",
   "nbconvert_exporter": "python",
   "pygments_lexer": "ipython3",
   "version": "3.12.7"
  }
 },
 "nbformat": 4,
 "nbformat_minor": 5
}
