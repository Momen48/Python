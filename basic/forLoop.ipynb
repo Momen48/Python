{
 "cells": [
  {
   "cell_type": "code",
   "execution_count": 1,
   "id": "951bd0f5-8a2a-4f27-b41c-d9bcdfb91a63",
   "metadata": {},
   "outputs": [
    {
     "name": "stdout",
     "output_type": "stream",
     "text": [
      "1\n",
      "2\n",
      "3\n",
      "4\n",
      "5\n",
      "6\n",
      "7\n",
      "8\n"
     ]
    }
   ],
   "source": [
    "myList = [1,2,3,4,5,6,7,8]\n",
    "\n",
    "for num in myList: \n",
    "    print(num)"
   ]
  },
  {
   "cell_type": "code",
   "execution_count": 17,
   "id": "45aff34c-3f8e-41d4-b769-bc46d49f5428",
   "metadata": {},
   "outputs": [
    {
     "ename": "SyntaxError",
     "evalue": "invalid syntax (1629629087.py, line 3)",
     "output_type": "error",
     "traceback": [
      "\u001b[1;36m  Cell \u001b[1;32mIn[17], line 3\u001b[1;36m\u001b[0m\n\u001b[1;33m    if num % 2 === 0:\u001b[0m\n\u001b[1;37m                 ^\u001b[0m\n\u001b[1;31mSyntaxError\u001b[0m\u001b[1;31m:\u001b[0m invalid syntax\n"
     ]
    }
   ],
   "source": [
    " for nm in myList: \n",
    "     # using condition in for loop\n",
    "     if num % 2 == 0:\n",
    "         print (nm)\n",
    "    # else:\n",
    "      #   print(nm)"
   ]
  },
  {
   "cell_type": "code",
   "execution_count": null,
   "id": "57cfec84-ed75-4bc9-8058-c72ba9fe484d",
   "metadata": {},
   "outputs": [],
   "source": []
  }
 ],
 "metadata": {
  "kernelspec": {
   "display_name": "Python 3 (ipykernel)",
   "language": "python",
   "name": "python3"
  },
  "language_info": {
   "codemirror_mode": {
    "name": "ipython",
    "version": 3
   },
   "file_extension": ".py",
   "mimetype": "text/x-python",
   "name": "python",
   "nbconvert_exporter": "python",
   "pygments_lexer": "ipython3",
   "version": "3.12.7"
  }
 },
 "nbformat": 4,
 "nbformat_minor": 5
}
