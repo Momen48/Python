{
 "cells": [
  {
   "cell_type": "code",
   "execution_count": null,
   "id": "2f5d67e8-3cfd-436d-9bbe-214e274398c4",
   "metadata": {},
   "outputs": [],
   "source": []
  }
 ],
 "metadata": {
  "kernelspec": {
   "display_name": "",
   "name": ""
  },
  "language_info": {
   "name": ""
  }
 },
 "nbformat": 4,
 "nbformat_minor": 5
}
