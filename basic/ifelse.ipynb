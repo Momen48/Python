{
 "cells": [
  {
   "cell_type": "code",
   "execution_count": 23,
   "id": "f58b92c6-e0ae-4596-91cd-2edfc9f3e53e",
   "metadata": {},
   "outputs": [
    {
     "name": "stdout",
     "output_type": "stream",
     "text": [
      "rana \n"
     ]
    }
   ],
   "source": [
    "if 5>2: \n",
    "    print('rana ')"
   ]
  },
  {
   "cell_type": "code",
   "execution_count": 33,
   "id": "31a3ae5c-8778-42ad-81cc-259c40ea01b4",
   "metadata": {},
   "outputs": [
    {
     "name": "stdout",
     "output_type": "stream",
     "text": [
      "not now\n"
     ]
    }
   ],
   "source": [
    "hungry = False\n",
    "if hungry: \n",
    "    print ('feed')\n",
    "else:\n",
    "    print (\"not now\")"
   ]
  },
  {
   "cell_type": "code",
   "execution_count": 37,
   "id": "78378772-5ca0-4c86-b8db-9c690fbd96ea",
   "metadata": {},
   "outputs": [
    {
     "name": "stdout",
     "output_type": "stream",
     "text": [
      "Yeah! That's me\n"
     ]
    }
   ],
   "source": [
    "name = \"Momen\"\n",
    "if name == 'Don':\n",
    "    print(\"DOn ko pakar na mushkil e nehi, namunkin\")\n",
    "elif name == \"Momen\": \n",
    "    print (\"Yeah! That\\'s me\")\n",
    "else: \n",
    "    print(\"wait a minute! Who are you?\")"
   ]
  },
  {
   "cell_type": "code",
   "execution_count": null,
   "id": "d4a67782-af1f-42d0-a22e-e77eb225e823",
   "metadata": {},
   "outputs": [],
   "source": []
  }
 ],
 "metadata": {
  "kernelspec": {
   "display_name": "Python 3 (ipykernel)",
   "language": "python",
   "name": "python3"
  },
  "language_info": {
   "codemirror_mode": {
    "name": "ipython",
    "version": 3
   },
   "file_extension": ".py",
   "mimetype": "text/x-python",
   "name": "python",
   "nbconvert_exporter": "python",
   "pygments_lexer": "ipython3",
   "version": "3.12.7"
  }
 },
 "nbformat": 4,
 "nbformat_minor": 5
}
