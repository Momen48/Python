{
 "cells": [
  {
   "cell_type": "code",
   "execution_count": 17,
   "id": "b1434af1-375f-4e7a-b379-b7f9fd72b8d2",
   "metadata": {},
   "outputs": [
    {
     "data": {
      "text/plain": [
       "7"
      ]
     },
     "execution_count": 17,
     "metadata": {},
     "output_type": "execute_result"
    }
   ],
   "source": [
    "def less_even(a,b):\n",
    "    assert int(a)>0 and int(b)>0,'because it is for positive number'\n",
    "    #assert a>0 and b>0,'because it is for positive number'\n",
    "    if a%2==0 and b%2==0: \n",
    "        if a>b:\n",
    "            return b\n",
    "        else:\n",
    "            return a\n",
    "\n",
    "    elif a%2!=0 and b%2!=0:\n",
    "        if a>b:\n",
    "            return a\n",
    "        else: \n",
    "            return b\n",
    "\n",
    "    else:\n",
    "        print (\"the fuck is this? \")\n"
   ]
  },
  {
   "cell_type": "code",
   "execution_count": 31,
   "id": "d468c79a-59f5-4dc7-be41-394e64f565e3",
   "metadata": {},
   "outputs": [
    {
     "data": {
      "text/plain": [
       "5"
      ]
     },
     "execution_count": 31,
     "metadata": {},
     "output_type": "execute_result"
    }
   ],
   "source": [
    "less_even(3,5)"
   ]
  },
  {
   "cell_type": "code",
   "execution_count": 35,
   "id": "732404de-bc02-4278-9ab3-06e0756a6cd8",
   "metadata": {},
   "outputs": [
    {
     "name": "stdout",
     "output_type": "stream",
     "text": [
      "the fuck is this? \n"
     ]
    },
    {
     "data": {
      "text/plain": [
       "5"
      ]
     },
     "execution_count": 35,
     "metadata": {},
     "output_type": "execute_result"
    }
   ],
   "source": [
    "less_even(7,6)\n",
    "less_even(2,4)\n",
    "less_even(3,5)"
   ]
  },
  {
   "cell_type": "code",
   "execution_count": 37,
   "id": "75c8ce45-f463-422b-b62f-e18cc13d8fb2",
   "metadata": {},
   "outputs": [],
   "source": [
    "# max() and min() function\n",
    "def max_min(a,b):\n",
    "    assert int(a)>0 and int(b)>0,'because it is for positive number'\n",
    "    #assert a>0 and b>0,'because it is for positive number'\n",
    "    if a%2==0 and b%2==0: \n",
    "        return min(a,b)\n",
    "    elif a%2!=0 and b%2!=0:\n",
    "        return max(a,b)\n",
    "    else:\n",
    "        print (\"the fuck is this? \")"
   ]
  },
  {
   "cell_type": "code",
   "execution_count": 45,
   "id": "c286bfc5-0ee0-4c25-b125-b1c5bf89b134",
   "metadata": {},
   "outputs": [],
   "source": [
    "max_min(4,2)"
   ]
  },
  {
   "cell_type": "code",
   "execution_count": null,
   "id": "c460935e-ea7c-4c9a-85f4-5cdf1605dca2",
   "metadata": {},
   "outputs": [],
   "source": []
  }
 ],
 "metadata": {
  "kernelspec": {
   "display_name": "Python 3 (ipykernel)",
   "language": "python",
   "name": "python3"
  },
  "language_info": {
   "codemirror_mode": {
    "name": "ipython",
    "version": 3
   },
   "file_extension": ".py",
   "mimetype": "text/x-python",
   "name": "python",
   "nbconvert_exporter": "python",
   "pygments_lexer": "ipython3",
   "version": "3.12.7"
  }
 },
 "nbformat": 4,
 "nbformat_minor": 5
}
