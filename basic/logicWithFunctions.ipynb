{
 "cells": [
  {
   "cell_type": "code",
   "execution_count": 3,
   "id": "85632264-c999-4f26-a49b-881154849c22",
   "metadata": {},
   "outputs": [
    {
     "data": {
      "text/plain": [
       "False"
      ]
     },
     "execution_count": 3,
     "metadata": {},
     "output_type": "execute_result"
    }
   ],
   "source": [
    "def evenCheck(n):\n",
    "    result = n%2==0\n",
    "    return result\n",
    "\n",
    "evenCheck (15)"
   ]
  },
  {
   "cell_type": "code",
   "execution_count": 5,
   "id": "3aabdfe5-cab8-4090-b0ca-de48eff25702",
   "metadata": {},
   "outputs": [
    {
     "data": {
      "text/plain": [
       "True"
      ]
     },
     "execution_count": 5,
     "metadata": {},
     "output_type": "execute_result"
    }
   ],
   "source": [
    "evenCheck(20)"
   ]
  },
  {
   "cell_type": "code",
   "execution_count": 20,
   "id": "111b71e3-ac15-4241-8e5c-d7af36c1fa6b",
   "metadata": {},
   "outputs": [
    {
     "data": {
      "text/plain": [
       "[2, 44, 12]"
      ]
     },
     "execution_count": 20,
     "metadata": {},
     "output_type": "execute_result"
    }
   ],
   "source": [
    "def list_check(n): \n",
    "    #return all the even numbers \n",
    "    even = []\n",
    "    for num in n: \n",
    "        if num%2 == 0:\n",
    "            even.append(num)\n",
    "        else:\n",
    "            pass\n",
    "    return even\n",
    "\n",
    "list_check([2,44,5,12,3])"
   ]
  },
  {
   "cell_type": "code",
   "execution_count": null,
   "id": "7efaab22-76f6-4c4f-a95d-edd66473c265",
   "metadata": {},
   "outputs": [],
   "source": []
  }
 ],
 "metadata": {
  "kernelspec": {
   "display_name": "Python 3 (ipykernel)",
   "language": "python",
   "name": "python3"
  },
  "language_info": {
   "codemirror_mode": {
    "name": "ipython",
    "version": 3
   },
   "file_extension": ".py",
   "mimetype": "text/x-python",
   "name": "python",
   "nbconvert_exporter": "python",
   "pygments_lexer": "ipython3",
   "version": "3.12.7"
  }
 },
 "nbformat": 4,
 "nbformat_minor": 5
}
