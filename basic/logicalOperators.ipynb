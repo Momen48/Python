{
 "cells": [
  {
   "cell_type": "code",
   "execution_count": 1,
   "id": "f766e175-a880-4356-8697-8468df9c67c2",
   "metadata": {},
   "outputs": [
    {
     "data": {
      "text/plain": [
       "True"
      ]
     },
     "execution_count": 1,
     "metadata": {},
     "output_type": "execute_result"
    }
   ],
   "source": [
    "'a'=='a' and 1<2"
   ]
  },
  {
   "cell_type": "code",
   "execution_count": 3,
   "id": "205d453c-2808-4339-a3b2-7caf0559901a",
   "metadata": {},
   "outputs": [
    {
     "data": {
      "text/plain": [
       "True"
      ]
     },
     "execution_count": 3,
     "metadata": {},
     "output_type": "execute_result"
    }
   ],
   "source": [
    "1>0 or 1==2"
   ]
  },
  {
   "cell_type": "code",
   "execution_count": 5,
   "id": "ae121163-ae65-4b83-848d-d86645702a70",
   "metadata": {},
   "outputs": [
    {
     "data": {
      "text/plain": [
       "False"
      ]
     },
     "execution_count": 5,
     "metadata": {},
     "output_type": "execute_result"
    }
   ],
   "source": [
    "12>10 and 1==2"
   ]
  },
  {
   "cell_type": "code",
   "execution_count": 7,
   "id": "d27aa600-d2ba-49bf-b4c6-9810f4b2e8af",
   "metadata": {},
   "outputs": [
    {
     "data": {
      "text/plain": [
       "True"
      ]
     },
     "execution_count": 7,
     "metadata": {},
     "output_type": "execute_result"
    }
   ],
   "source": [
    "not ('a'=='b')"
   ]
  },
  {
   "cell_type": "code",
   "execution_count": null,
   "id": "e2cf91c0-ef8e-4836-a5f0-88addd8e4d40",
   "metadata": {},
   "outputs": [],
   "source": []
  }
 ],
 "metadata": {
  "kernelspec": {
   "display_name": "Python 3 (ipykernel)",
   "language": "python",
   "name": "python3"
  },
  "language_info": {
   "codemirror_mode": {
    "name": "ipython",
    "version": 3
   },
   "file_extension": ".py",
   "mimetype": "text/x-python",
   "name": "python",
   "nbconvert_exporter": "python",
   "pygments_lexer": "ipython3",
   "version": "3.12.7"
  }
 },
 "nbformat": 4,
 "nbformat_minor": 5
}
