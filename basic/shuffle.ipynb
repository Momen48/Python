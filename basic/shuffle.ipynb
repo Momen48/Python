{
 "cells": [
  {
   "cell_type": "code",
   "execution_count": 15,
   "id": "6678909e-0185-45a9-93d9-d36cf7843061",
   "metadata": {},
   "outputs": [
    {
     "data": {
      "text/plain": [
       "[1, 7, 6, 3, 5, 8, 4, 2, 9]"
      ]
     },
     "execution_count": 15,
     "metadata": {},
     "output_type": "execute_result"
    }
   ],
   "source": [
    "from random import shuffle\n",
    "\n",
    "ex = [1,2,3,4,5,6,7,8,9]\n",
    "# shuffle(ex)\n",
    "ex"
   ]
  },
  {
   "cell_type": "code",
   "execution_count": 24,
   "id": "9a6391dc-7bfc-4c80-9d43-138fc3dd1e04",
   "metadata": {},
   "outputs": [
    {
     "data": {
      "text/plain": [
       "[6, 1, 2, 5, 8, 7, 9, 3, 4]"
      ]
     },
     "execution_count": 24,
     "metadata": {},
     "output_type": "execute_result"
    }
   ],
   "source": [
    "def suff_list(mylist): \n",
    "    shuffle (mylist)\n",
    "    return mylist\n",
    "\n",
    "result = suff_list(ex)\n",
    "result"
   ]
  }
 ],
 "metadata": {
  "kernelspec": {
   "display_name": "Python 3 (ipykernel)",
   "language": "python",
   "name": "python3"
  },
  "language_info": {
   "codemirror_mode": {
    "name": "ipython",
    "version": 3
   },
   "file_extension": ".py",
   "mimetype": "text/x-python",
   "name": "python",
   "nbconvert_exporter": "python",
   "pygments_lexer": "ipython3",
   "version": "3.12.7"
  }
 },
 "nbformat": 4,
 "nbformat_minor": 5
}
