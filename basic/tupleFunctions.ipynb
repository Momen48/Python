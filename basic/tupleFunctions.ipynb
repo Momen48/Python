{
 "cells": [
  {
   "cell_type": "code",
   "execution_count": 1,
   "id": "a53ba918-1343-4e9c-9290-ea6dae270b2f",
   "metadata": {},
   "outputs": [
    {
     "name": "stdout",
     "output_type": "stream",
     "text": [
      "APL\n",
      "MS\n",
      "Ggl\n"
     ]
    }
   ],
   "source": [
    "stock_price = [('APL',100),('MS',150),('Ggl',200)]\n",
    "\n",
    "for ticker, price in stock_price: \n",
    "    print (ticker)"
   ]
  },
  {
   "cell_type": "code",
   "execution_count": 16,
   "id": "7cad7585-5fb1-4088-91e9-88ace4a03f70",
   "metadata": {},
   "outputs": [
    {
     "data": {
      "text/plain": [
       "('john', 800)"
      ]
     },
     "execution_count": 16,
     "metadata": {},
     "output_type": "execute_result"
    }
   ],
   "source": [
    "work_hours= [('cina',200),('don',400),('john',800)]\n",
    "\n",
    "def emp_check (work_hours):\n",
    "    \n",
    "    cur_max = 0\n",
    "    emp_month = ''\n",
    "    result  = emp_check(work_hours)   \n",
    "    \n",
    "    for emp, hours in work_hours: \n",
    "        if hours >  cur_max: \n",
    "            cur_max = hours\n",
    "            emp_month = emp\n",
    "        else: \n",
    "            pass\n",
    "     \n",
    "    # return a tuple \n",
    "    return (emp_month, cur_max)\n",
    "\n",
    "\n",
    "result "
   ]
  },
  {
   "cell_type": "code",
   "execution_count": null,
   "id": "b2d6d98b-b0a0-4c78-bcc8-2ec08aa39397",
   "metadata": {},
   "outputs": [],
   "source": []
  }
 ],
 "metadata": {
  "kernelspec": {
   "display_name": "Python 3 (ipykernel)",
   "language": "python",
   "name": "python3"
  },
  "language_info": {
   "codemirror_mode": {
    "name": "ipython",
    "version": 3
   },
   "file_extension": ".py",
   "mimetype": "text/x-python",
   "name": "python",
   "nbconvert_exporter": "python",
   "pygments_lexer": "ipython3",
   "version": "3.12.7"
  }
 },
 "nbformat": 4,
 "nbformat_minor": 5
}
