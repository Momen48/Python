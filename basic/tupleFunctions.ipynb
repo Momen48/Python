{
 "cells": [
  {
   "cell_type": "code",
   "execution_count": 1,
   "id": "a53ba918-1343-4e9c-9290-ea6dae270b2f",
   "metadata": {},
   "outputs": [
    {
     "name": "stdout",
     "output_type": "stream",
     "text": [
      "APL\n",
      "MS\n",
      "Ggl\n"
     ]
    }
   ],
   "source": [
    "stock_price = [('APL',100),('MS',150),('Ggl',200)]\n",
    "\n",
    "for ticker, price in stock_price: \n",
    "    print (ticker)"
   ]
  },
  {
   "cell_type": "code",
   "execution_count": 6,
   "id": "7cad7585-5fb1-4088-91e9-88ace4a03f70",
   "metadata": {},
   "outputs": [
    {
     "ename": "IndentationError",
     "evalue": "unindent does not match any outer indentation level (<string>, line 17)",
     "output_type": "error",
     "traceback": [
      "\u001b[1;36m  File \u001b[1;32m<string>:17\u001b[1;36m\u001b[0m\n\u001b[1;33m    emp_check(work_hours)\u001b[0m\n\u001b[1;37m                            ^\u001b[0m\n\u001b[1;31mIndentationError\u001b[0m\u001b[1;31m:\u001b[0m unindent does not match any outer indentation level\n"
     ]
    }
   ],
   "source": [
    "work_hours= [('cina',200),('don',400),('john',800)]\n",
    "\n",
    "def emp_check (work_hours):\n",
    "    \n",
    "    cur_max = 0\n",
    "    emp_month = ''\n",
    "\n",
    "    for emp, hours in work_hours: \n",
    "        if hours >  cur_max: \n",
    "            cur_max = hours\n",
    "            emp_month = emp\n",
    "        else: \n",
    "            pass\n",
    "    \n",
    "    # return a tuple \n",
    "    return (emp_month, cur_max)\n",
    "  emp_check(work_hours)   "
   ]
  },
  {
   "cell_type": "code",
   "execution_count": null,
   "id": "b2d6d98b-b0a0-4c78-bcc8-2ec08aa39397",
   "metadata": {},
   "outputs": [],
   "source": []
  }
 ],
 "metadata": {
  "kernelspec": {
   "display_name": "Python 3 (ipykernel)",
   "language": "python",
   "name": "python3"
  },
  "language_info": {
   "codemirror_mode": {
    "name": "ipython",
    "version": 3
   },
   "file_extension": ".py",
   "mimetype": "text/x-python",
   "name": "python",
   "nbconvert_exporter": "python",
   "pygments_lexer": "ipython3",
   "version": "3.12.7"
  }
 },
 "nbformat": 4,
 "nbformat_minor": 5
}
